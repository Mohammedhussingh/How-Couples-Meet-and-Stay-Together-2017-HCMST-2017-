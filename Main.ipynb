{
 "cells": [
  {
   "cell_type": "code",
   "execution_count": 13,
   "metadata": {},
   "outputs": [],
   "source": [
    "import pandas as pd\n",
    "import numpy as np\n",
    "import matplotlib.pyplot as plt\n",
    "from sklearn.linear_model import LassoCV\n",
    "from sklearn.decomposition import PCA\n",
    "from sklearn.preprocessing import StandardScaler\n",
    "import statsmodels.api as sm\n",
    "from sklearn.metrics import log_loss, accuracy_score"
   ]
  },
  {
   "cell_type": "code",
   "execution_count": 23,
   "metadata": {},
   "outputs": [
    {
     "name": "stderr",
     "output_type": "stream",
     "text": [
      "/home/learner/Desktop/Love/venv/lib/python3.12/site-packages/openpyxl/worksheet/header_footer.py:48: UserWarning: Cannot parse header or footer so it will be ignored\n",
      "  warn(\"\"\"Cannot parse header or footer so it will be ignored\"\"\")\n"
     ]
    }
   ],
   "source": [
    "df = pd.read_excel(\"/home/learner/Desktop/Love/HCMST_2009_Data_ver_3.04.xlsx\", )"
   ]
  },
  {
   "cell_type": "code",
   "execution_count": 21,
   "metadata": {},
   "outputs": [
    {
     "data": {
      "text/html": [
       "<div>\n",
       "<style scoped>\n",
       "    .dataframe tbody tr th:only-of-type {\n",
       "        vertical-align: middle;\n",
       "    }\n",
       "\n",
       "    .dataframe tbody tr th {\n",
       "        vertical-align: top;\n",
       "    }\n",
       "\n",
       "    .dataframe thead th {\n",
       "        text-align: right;\n",
       "    }\n",
       "</style>\n",
       "<table border=\"1\" class=\"dataframe\">\n",
       "  <thead>\n",
       "    <tr style=\"text-align: right;\">\n",
       "      <th></th>\n",
       "      <th>weight1</th>\n",
       "      <th>weight2</th>\n",
       "      <th>ppage</th>\n",
       "      <th>ppeduc</th>\n",
       "      <th>ppgender</th>\n",
       "      <th>pphhhead</th>\n",
       "      <th>pphouseholdsize</th>\n",
       "      <th>pphouse</th>\n",
       "      <th>ppincimp</th>\n",
       "      <th>ppmarit</th>\n",
       "      <th>...</th>\n",
       "      <th>pp2_ppt1317</th>\n",
       "      <th>pp2_ppt18ov</th>\n",
       "      <th>pp2_ppt25</th>\n",
       "      <th>pp2_ppt612</th>\n",
       "      <th>pp2_ppwork</th>\n",
       "      <th>pp2_ppnet</th>\n",
       "      <th>pp2_ppcmdate_yrmo</th>\n",
       "      <th>w2_HCMST_interview_fin_yrmo</th>\n",
       "      <th>w2_q10</th>\n",
       "      <th>w2_broke_up</th>\n",
       "    </tr>\n",
       "  </thead>\n",
       "  <tbody>\n",
       "    <tr>\n",
       "      <th>1</th>\n",
       "      <td>4265</td>\n",
       "      <td>4265</td>\n",
       "      <td>52</td>\n",
       "      <td>12</td>\n",
       "      <td>2</td>\n",
       "      <td>1</td>\n",
       "      <td>2</td>\n",
       "      <td>3</td>\n",
       "      <td>7</td>\n",
       "      <td>6</td>\n",
       "      <td>...</td>\n",
       "      <td>0</td>\n",
       "      <td>2</td>\n",
       "      <td>0</td>\n",
       "      <td>0</td>\n",
       "      <td>4</td>\n",
       "      <td>1</td>\n",
       "      <td>200905</td>\n",
       "      <td>201003</td>\n",
       "      <td>0</td>\n",
       "      <td>0</td>\n",
       "    </tr>\n",
       "    <tr>\n",
       "      <th>2</th>\n",
       "      <td>16485</td>\n",
       "      <td>16485</td>\n",
       "      <td>28</td>\n",
       "      <td>13</td>\n",
       "      <td>2</td>\n",
       "      <td>1</td>\n",
       "      <td>2</td>\n",
       "      <td>3</td>\n",
       "      <td>11</td>\n",
       "      <td>6</td>\n",
       "      <td>...</td>\n",
       "      <td>0</td>\n",
       "      <td>2</td>\n",
       "      <td>0</td>\n",
       "      <td>0</td>\n",
       "      <td>1</td>\n",
       "      <td>1</td>\n",
       "      <td>200904</td>\n",
       "      <td>201003</td>\n",
       "      <td>0</td>\n",
       "      <td>0</td>\n",
       "    </tr>\n",
       "    <tr>\n",
       "      <th>3</th>\n",
       "      <td>52464</td>\n",
       "      <td>0</td>\n",
       "      <td>49</td>\n",
       "      <td>9</td>\n",
       "      <td>2</td>\n",
       "      <td>1</td>\n",
       "      <td>4</td>\n",
       "      <td>3</td>\n",
       "      <td>10</td>\n",
       "      <td>5</td>\n",
       "      <td>...</td>\n",
       "      <td>1</td>\n",
       "      <td>3</td>\n",
       "      <td>0</td>\n",
       "      <td>0</td>\n",
       "      <td>1</td>\n",
       "      <td>1</td>\n",
       "      <td>200904</td>\n",
       "      <td>0</td>\n",
       "      <td>0</td>\n",
       "      <td>0</td>\n",
       "    </tr>\n",
       "    <tr>\n",
       "      <th>4</th>\n",
       "      <td>4575</td>\n",
       "      <td>4575</td>\n",
       "      <td>31</td>\n",
       "      <td>11</td>\n",
       "      <td>1</td>\n",
       "      <td>1</td>\n",
       "      <td>1</td>\n",
       "      <td>3</td>\n",
       "      <td>11</td>\n",
       "      <td>5</td>\n",
       "      <td>...</td>\n",
       "      <td>0</td>\n",
       "      <td>1</td>\n",
       "      <td>0</td>\n",
       "      <td>0</td>\n",
       "      <td>1</td>\n",
       "      <td>1</td>\n",
       "      <td>200905</td>\n",
       "      <td>201003</td>\n",
       "      <td>1</td>\n",
       "      <td>1</td>\n",
       "    </tr>\n",
       "    <tr>\n",
       "      <th>5</th>\n",
       "      <td>12147</td>\n",
       "      <td>0</td>\n",
       "      <td>35</td>\n",
       "      <td>9</td>\n",
       "      <td>1</td>\n",
       "      <td>1</td>\n",
       "      <td>2</td>\n",
       "      <td>2</td>\n",
       "      <td>11</td>\n",
       "      <td>5</td>\n",
       "      <td>...</td>\n",
       "      <td>0</td>\n",
       "      <td>2</td>\n",
       "      <td>0</td>\n",
       "      <td>0</td>\n",
       "      <td>2</td>\n",
       "      <td>1</td>\n",
       "      <td>200904</td>\n",
       "      <td>0</td>\n",
       "      <td>0</td>\n",
       "      <td>0</td>\n",
       "    </tr>\n",
       "  </tbody>\n",
       "</table>\n",
       "<p>5 rows × 144 columns</p>\n",
       "</div>"
      ],
      "text/plain": [
       "  weight1 weight2 ppage ppeduc ppgender pphhhead pphouseholdsize pphouse  \\\n",
       "1    4265    4265    52     12        2        1               2       3   \n",
       "2   16485   16485    28     13        2        1               2       3   \n",
       "3   52464       0    49      9        2        1               4       3   \n",
       "4    4575    4575    31     11        1        1               1       3   \n",
       "5   12147       0    35      9        1        1               2       2   \n",
       "\n",
       "  ppincimp ppmarit  ... pp2_ppt1317 pp2_ppt18ov pp2_ppt25 pp2_ppt612  \\\n",
       "1        7       6  ...           0           2         0          0   \n",
       "2       11       6  ...           0           2         0          0   \n",
       "3       10       5  ...           1           3         0          0   \n",
       "4       11       5  ...           0           1         0          0   \n",
       "5       11       5  ...           0           2         0          0   \n",
       "\n",
       "  pp2_ppwork pp2_ppnet pp2_ppcmdate_yrmo w2_HCMST_interview_fin_yrmo w2_q10  \\\n",
       "1          4         1            200905                      201003      0   \n",
       "2          1         1            200904                      201003      0   \n",
       "3          1         1            200904                           0      0   \n",
       "4          1         1            200905                      201003      1   \n",
       "5          2         1            200904                           0      0   \n",
       "\n",
       "  w2_broke_up  \n",
       "1           0  \n",
       "2           0  \n",
       "3           0  \n",
       "4           1  \n",
       "5           0  \n",
       "\n",
       "[5 rows x 144 columns]"
      ]
     },
     "execution_count": 21,
     "metadata": {},
     "output_type": "execute_result"
    }
   ],
   "source": [
    "df.head()"
   ]
  },
  {
   "cell_type": "code",
   "execution_count": 25,
   "metadata": {},
   "outputs": [
    {
     "data": {
      "text/plain": [
       "(4002, 145)"
      ]
     },
     "execution_count": 25,
     "metadata": {},
     "output_type": "execute_result"
    }
   ],
   "source": [
    "\n",
    "columns_to_keep = [\n",
    "    'caseid_new', 'weight1', 'weight2', 'ppage', 'ppeduc', 'ppgender', 'pphhhead', \n",
    "    'pphouseholdsize', 'pphouse', 'ppincimp', 'ppmarit', 'ppmsacat', 'pprent', \n",
    "    'ppt18ov', 'children_in_hh', 'ppwork', 'pphispan', 'pprace_white', 'pprace_black', \n",
    "    'pprace_nativeamerican', 'pprace_asianindian', 'pprace_chinese', 'pprace_filipino', \n",
    "    'pprace_japanese', 'pprace_korean', 'pprace_vietnamese', 'pprace_otherasian', \n",
    "    'pprace_hawaiian', 'pprace_guamanian', 'pprace_samoan', 'pprace_otherpacificislander', \n",
    "    'pprace_someotherrace', 'pppartyid3', 'papreligion', 'ppppcmdate_yrmo', 'pppadate_yrmo', \n",
    "    'HCMST_main_interview_yrmo', 'qflag', 'glbstatus', 's1', 's1a', 's2', 'q4', 'q5', \n",
    "    'q6a', 'q6b', 'q7b', 'q9', 'q10', 'q15a1_compressed', 'q16', 'q17b', 'q19', 'q20', 'q21a',\n",
    "    'q21b', 'q21c', 'q21d', 'q22', 'q23', 'q25', 'q26', 'q27', 'q28', 'q29', 'q30', \n",
    "    'q31_1', 'q31_2', 'q31_3', 'q31_4', 'q31_5', 'q31_6', 'q31_7', 'q31_8', 'q31_9', \n",
    "    'q31_other_text_entered', 'q32', 'q33_1', 'q33_2', 'q33_3', 'q33_4', 'q33_5', 'q33_6', \n",
    "    'q33_7', 'q33_other_text_entered', 'q34', 'q24_met_online', 'q24_btwn_I_cowork', \n",
    "    'q24_btwn_I_friend', 'q24_btwn_I_family', 'q24_btwn_I_sig_other', 'q24_btwn_I_neighbor', \n",
    "    'q24_school', 'q24_college', 'q24_military', 'q24_church', 'q24_vol_org', 'q24_customer', \n",
    "    'q24_bar_restaurant', 'q24_internet_dating', 'q24_internet_social_networking', \n",
    "    'q24_internet_game', 'q24_internet_chat', 'q24_internet_community', 'q24_internet_other', \n",
    "    'q24_public', 'q24_private_party', 'q24_blind_date', 'q24_vacation', \n",
    "    'q24_singles_service_non_internet', 'q24_business_trip', 'q24_work_neighbor', \n",
    "    'age_difference', 'met_through_friends', 'met_through_family', 'met_through_as_neighbors', \n",
    "    'met_through_as_coworkers', 'parental_approval', 'relationship_quality', 'coresident', \n",
    "    'pp2_afterp1', 'pp2_pphhhead', 'pp2_pphhsize', 'pp2_pphouse', 'pp2_ppincimp', 'pp2_ppmarit', \n",
    "    'pp2_ppmsacat', 'pp2_ppeduc', 'pp2_ppeducat', 'pp2_respondent_yrsed', 'pp2_ppethm', \n",
    "    'pp2_ppreg4', 'pp2_ppreg9', 'pp2_pprent', 'pp2_ppt01', 'pp2_ppt1317', 'pp2_ppt18ov', \n",
    "    'pp2_ppt25', 'pp2_ppt612', 'pp2_ppwork', 'pp2_ppnet', 'pp2_ppcmdate_yrmo', \n",
    "    'w2_HCMST_interview_fin_yrmo', 'w2_q10', 'w2_broke_up'\n",
    "]\n",
    "\n",
    "df = df[columns_to_keep]\n",
    "df.shape"
   ]
  },
  {
   "cell_type": "code",
   "execution_count": 24,
   "metadata": {},
   "outputs": [
    {
     "data": {
      "text/html": [
       "<div>\n",
       "<style scoped>\n",
       "    .dataframe tbody tr th:only-of-type {\n",
       "        vertical-align: middle;\n",
       "    }\n",
       "\n",
       "    .dataframe tbody tr th {\n",
       "        vertical-align: top;\n",
       "    }\n",
       "\n",
       "    .dataframe thead th {\n",
       "        text-align: right;\n",
       "    }\n",
       "</style>\n",
       "<table border=\"1\" class=\"dataframe\">\n",
       "  <thead>\n",
       "    <tr style=\"text-align: right;\">\n",
       "      <th></th>\n",
       "      <th>caseid_new</th>\n",
       "      <th>weight1</th>\n",
       "      <th>weight2</th>\n",
       "      <th>ppage</th>\n",
       "      <th>ppagecat</th>\n",
       "      <th>ppagect4</th>\n",
       "      <th>ppeduc</th>\n",
       "      <th>ppeducat</th>\n",
       "      <th>ppethm</th>\n",
       "      <th>ppgender</th>\n",
       "      <th>...</th>\n",
       "      <th>w3_mbtiming_year</th>\n",
       "      <th>w3_mbtiming_month</th>\n",
       "      <th>w3_q5</th>\n",
       "      <th>w3_q6</th>\n",
       "      <th>w3_q7</th>\n",
       "      <th>w3_q8</th>\n",
       "      <th>w3_q9</th>\n",
       "      <th>w3_q10</th>\n",
       "      <th>w3_nonmbtiming_year</th>\n",
       "      <th>w3_nonmbtiming_month</th>\n",
       "    </tr>\n",
       "  </thead>\n",
       "  <tbody>\n",
       "    <tr>\n",
       "      <th>1</th>\n",
       "      <td>22526</td>\n",
       "      <td>4265</td>\n",
       "      <td>4265</td>\n",
       "      <td>52</td>\n",
       "      <td>4</td>\n",
       "      <td>3</td>\n",
       "      <td>12</td>\n",
       "      <td>4</td>\n",
       "      <td>4</td>\n",
       "      <td>2</td>\n",
       "      <td>...</td>\n",
       "      <td>0</td>\n",
       "      <td>0</td>\n",
       "      <td>1</td>\n",
       "      <td>1</td>\n",
       "      <td>2</td>\n",
       "      <td>1</td>\n",
       "      <td>0</td>\n",
       "      <td>0</td>\n",
       "      <td>0</td>\n",
       "      <td>0</td>\n",
       "    </tr>\n",
       "    <tr>\n",
       "      <th>2</th>\n",
       "      <td>23286</td>\n",
       "      <td>16485</td>\n",
       "      <td>16485</td>\n",
       "      <td>28</td>\n",
       "      <td>2</td>\n",
       "      <td>1</td>\n",
       "      <td>13</td>\n",
       "      <td>4</td>\n",
       "      <td>1</td>\n",
       "      <td>2</td>\n",
       "      <td>...</td>\n",
       "      <td>0</td>\n",
       "      <td>0</td>\n",
       "      <td>0</td>\n",
       "      <td>0</td>\n",
       "      <td>0</td>\n",
       "      <td>0</td>\n",
       "      <td>0</td>\n",
       "      <td>0</td>\n",
       "      <td>0</td>\n",
       "      <td>0</td>\n",
       "    </tr>\n",
       "    <tr>\n",
       "      <th>3</th>\n",
       "      <td>25495</td>\n",
       "      <td>52464</td>\n",
       "      <td>0</td>\n",
       "      <td>49</td>\n",
       "      <td>4</td>\n",
       "      <td>3</td>\n",
       "      <td>9</td>\n",
       "      <td>2</td>\n",
       "      <td>2</td>\n",
       "      <td>2</td>\n",
       "      <td>...</td>\n",
       "      <td>0</td>\n",
       "      <td>0</td>\n",
       "      <td>0</td>\n",
       "      <td>0</td>\n",
       "      <td>0</td>\n",
       "      <td>0</td>\n",
       "      <td>0</td>\n",
       "      <td>0</td>\n",
       "      <td>0</td>\n",
       "      <td>0</td>\n",
       "    </tr>\n",
       "    <tr>\n",
       "      <th>4</th>\n",
       "      <td>26315</td>\n",
       "      <td>4575</td>\n",
       "      <td>4575</td>\n",
       "      <td>31</td>\n",
       "      <td>2</td>\n",
       "      <td>2</td>\n",
       "      <td>11</td>\n",
       "      <td>3</td>\n",
       "      <td>1</td>\n",
       "      <td>1</td>\n",
       "      <td>...</td>\n",
       "      <td>0</td>\n",
       "      <td>0</td>\n",
       "      <td>0</td>\n",
       "      <td>0</td>\n",
       "      <td>0</td>\n",
       "      <td>0</td>\n",
       "      <td>0</td>\n",
       "      <td>0</td>\n",
       "      <td>0</td>\n",
       "      <td>0</td>\n",
       "    </tr>\n",
       "    <tr>\n",
       "      <th>5</th>\n",
       "      <td>27355</td>\n",
       "      <td>12147</td>\n",
       "      <td>0</td>\n",
       "      <td>35</td>\n",
       "      <td>3</td>\n",
       "      <td>2</td>\n",
       "      <td>9</td>\n",
       "      <td>2</td>\n",
       "      <td>1</td>\n",
       "      <td>1</td>\n",
       "      <td>...</td>\n",
       "      <td>0</td>\n",
       "      <td>0</td>\n",
       "      <td>0</td>\n",
       "      <td>0</td>\n",
       "      <td>0</td>\n",
       "      <td>0</td>\n",
       "      <td>0</td>\n",
       "      <td>0</td>\n",
       "      <td>0</td>\n",
       "      <td>0</td>\n",
       "    </tr>\n",
       "  </tbody>\n",
       "</table>\n",
       "<p>5 rows × 387 columns</p>\n",
       "</div>"
      ],
      "text/plain": [
       "  caseid_new weight1 weight2 ppage ppagecat ppagect4 ppeduc ppeducat ppethm  \\\n",
       "1      22526    4265    4265    52        4        3     12        4      4   \n",
       "2      23286   16485   16485    28        2        1     13        4      1   \n",
       "3      25495   52464       0    49        4        3      9        2      2   \n",
       "4      26315    4575    4575    31        2        2     11        3      1   \n",
       "5      27355   12147       0    35        3        2      9        2      1   \n",
       "\n",
       "  ppgender  ... w3_mbtiming_year w3_mbtiming_month w3_q5 w3_q6 w3_q7 w3_q8  \\\n",
       "1        2  ...                0                 0     1     1     2     1   \n",
       "2        2  ...                0                 0     0     0     0     0   \n",
       "3        2  ...                0                 0     0     0     0     0   \n",
       "4        1  ...                0                 0     0     0     0     0   \n",
       "5        1  ...                0                 0     0     0     0     0   \n",
       "\n",
       "  w3_q9 w3_q10 w3_nonmbtiming_year w3_nonmbtiming_month  \n",
       "1     0      0                   0                    0  \n",
       "2     0      0                   0                    0  \n",
       "3     0      0                   0                    0  \n",
       "4     0      0                   0                    0  \n",
       "5     0      0                   0                    0  \n",
       "\n",
       "[5 rows x 387 columns]"
      ]
     },
     "execution_count": 24,
     "metadata": {},
     "output_type": "execute_result"
    }
   ],
   "source": [
    "df = df.drop(index = 0).drop(columns = df.columns[0])\n",
    "df.head()"
   ]
  },
  {
   "cell_type": "code",
   "execution_count": 26,
   "metadata": {},
   "outputs": [
    {
     "name": "stdout",
     "output_type": "stream",
     "text": [
      "<class 'pandas.core.frame.DataFrame'>\n",
      "RangeIndex: 4002 entries, 1 to 4002\n",
      "Columns: 145 entries, caseid_new to w2_broke_up\n",
      "dtypes: category(124), datetime64[ns](5), int64(16)\n",
      "memory usage: 1.1 MB\n"
     ]
    }
   ],
   "source": [
    "categorical_columns = [\n",
    "    'ppeduc', 'pphhhead', 'pphouse', 'ppincimp', 'ppmarit', \n",
    "    'ppmsacat', 'pprent', 'ppgender', 'ppwork', 'pppartyid3', \n",
    "    'papreligion', 'glbstatus', 'qflag', 'pphispan', 'pprace_white', 'pprace_black', \n",
    "    'pprace_chinese', 'pprace_filipino', 'pprace_japanese', 'pprace_korean',\n",
    "    'pprace_vietnamese', 'pprace_otherasian', 's1a','pp2_respondent_yrsed',\n",
    "    'pprace_nativeamerican', 'pprace_asianindian', 'pprace_hawaiian', \n",
    "    'pprace_guamanian', 'pprace_samoan', 'pprace_otherpacificislander', \n",
    "    'pprace_someotherrace', 's1', 's2', 'q4', 'q5', 'q6a', 'q6b', 'q7b'\n",
    "    ,'q10', 'q15a1_compressed', 'q17b', 'q19', 'q20', \n",
    "    'q22', 'q23', 'q25', 'q26', 'q27', 'q28', \n",
    "    'q29', 'q30', 'q31_1', 'q31_2', 'q31_3', 'q31_4', 'q31_5', 'q31_6', 'q31_7', \n",
    "    'q31_8', 'q31_9', 'q31_other_text_entered', 'q32', 'q33_1', 'q33_2', 'q33_3', \n",
    "    'q33_4', 'q33_5', 'q33_6', 'q33_7', 'q33_other_text_entered', 'q34', 'q24_met_online', \n",
    "    'q24_btwn_I_cowork', 'q24_btwn_I_friend', 'q24_btwn_I_family', 'q24_btwn_I_sig_other', \n",
    "    'q24_btwn_I_neighbor', 'q24_school', 'q24_college', 'q24_military', 'q24_church', \n",
    "    'q24_vol_org', 'q24_customer', 'q24_bar_restaurant', 'q24_internet_dating', \n",
    "    'q24_internet_social_networking', 'q24_internet_game', 'q24_internet_chat', \n",
    "    'q24_internet_community', 'q24_internet_other', 'q24_public', 'q24_private_party', \n",
    "    'q24_blind_date', 'q24_vacation', 'q24_singles_service_non_internet', 'q24_business_trip', \n",
    "    'q24_work_neighbor', 'met_through_friends', 'met_through_family', 'met_through_as_neighbors', \n",
    "    'met_through_as_coworkers', 'parental_approval', 'relationship_quality', 'coresident', \n",
    "    'pp2_afterp1', 'pp2_pphhhead', 'pp2_pphouse', 'pp2_ppincimp', 'pp2_ppmarit', \n",
    "    'pp2_ppmsacat', 'pp2_ppeduc', 'pp2_ppeducat', 'pp2_ppethm', 'pp2_ppreg4', 'pp2_ppreg9', \n",
    "    'pp2_pprent', 'pp2_ppt01', 'pp2_ppt1317', 'pp2_ppt25', 'pp2_ppt612', \n",
    "    'pp2_ppwork', 'pp2_ppnet', 'w2_q10', 'w2_broke_up'\n",
    "]\n",
    "\n",
    "numerical_columns = [\n",
    "    'caseid_new', 'weight1', 'weight2', 'ppage', 'ppt18ov', 'pp2_ppt18ov',  \n",
    "    'pphouseholdsize', 'children_in_hh', 'age_difference', 'pp2_pphhsize', 'q21a', 'q21b', \n",
    "    'q21c', 'q21d', 'q9', 'q16', \n",
    "]\n",
    "\n",
    "date_columns = [\n",
    "    'ppppcmdate_yrmo', 'pppadate_yrmo', 'HCMST_main_interview_yrmo', 'pp2_ppcmdate_yrmo', \n",
    "    'w2_HCMST_interview_fin_yrmo'\n",
    "]\n",
    "\n",
    "for col in categorical_columns:\n",
    "    df[col] = df[col].astype('category')\n",
    "\n",
    "for col in numerical_columns:\n",
    "    df[col] = df[col].astype(int)\n",
    "\n",
    "for col in date_columns:\n",
    "    df[col] = pd.to_datetime(df[col])\n",
    "\n",
    "df.info()"
   ]
  },
  {
   "cell_type": "code",
   "execution_count": null,
   "metadata": {},
   "outputs": [
    {
     "name": "stdout",
     "output_type": "stream",
     "text": [
      "<class 'pandas.core.frame.DataFrame'>\n",
      "RangeIndex: 4002 entries, 1 to 4002\n",
      "Columns: 145 entries, caseid_new to w2_broke_up\n",
      "dtypes: category(124), datetime64[ns](5), float64(11), int64(5)\n",
      "memory usage: 1.1 MB\n"
     ]
    }
   ],
   "source": [
    "# Replace 0's with the average for numerical columns\n",
    "for col in numerical_columns:\n",
    "    mean_value = df[col].replace(0, pd.NA).mean()  # Calculate mean excluding zeros\n",
    "    df[col] = df[col].replace(0, mean_value)  # Replace zeros with the mean\n",
    "\n",
    "## Replace NaN with \"Unknown\" for categorical columns\n",
    "for col in categorical_columns:\n",
    "    # Ensure \"Unknown\" is a valid category\n",
    "    df[col] = df[col].cat.add_categories('Unknown')\n",
    "    df[col] = df[col].fillna(\"Unknown\")  # Replace NaN with \"Unknown\"\n",
    "\n",
    "# Verify the changes\n",
    "df.info()\n"
   ]
  },
  {
   "cell_type": "markdown",
   "metadata": {},
   "source": [
    "# Data Cleaning and Transformation"
   ]
  },
  {
   "cell_type": "code",
   "execution_count": 27,
   "metadata": {},
   "outputs": [
    {
     "data": {
      "text/html": [
       "<div>\n",
       "<style scoped>\n",
       "    .dataframe tbody tr th:only-of-type {\n",
       "        vertical-align: middle;\n",
       "    }\n",
       "\n",
       "    .dataframe tbody tr th {\n",
       "        vertical-align: top;\n",
       "    }\n",
       "\n",
       "    .dataframe thead th {\n",
       "        text-align: right;\n",
       "    }\n",
       "</style>\n",
       "<table border=\"1\" class=\"dataframe\">\n",
       "  <thead>\n",
       "    <tr style=\"text-align: right;\">\n",
       "      <th></th>\n",
       "      <th>caseid_new</th>\n",
       "      <th>weight1</th>\n",
       "      <th>weight2</th>\n",
       "      <th>ppage</th>\n",
       "      <th>ppeduc</th>\n",
       "      <th>ppgender</th>\n",
       "      <th>pphhhead</th>\n",
       "      <th>pphouseholdsize</th>\n",
       "      <th>pphouse</th>\n",
       "      <th>ppincimp</th>\n",
       "      <th>...</th>\n",
       "      <th>pp2_ppt1317</th>\n",
       "      <th>pp2_ppt18ov</th>\n",
       "      <th>pp2_ppt25</th>\n",
       "      <th>pp2_ppt612</th>\n",
       "      <th>pp2_ppwork</th>\n",
       "      <th>pp2_ppnet</th>\n",
       "      <th>pp2_ppcmdate_yrmo</th>\n",
       "      <th>w2_HCMST_interview_fin_yrmo</th>\n",
       "      <th>w2_q10</th>\n",
       "      <th>w2_broke_up</th>\n",
       "    </tr>\n",
       "  </thead>\n",
       "  <tbody>\n",
       "    <tr>\n",
       "      <th>11</th>\n",
       "      <td>32656</td>\n",
       "      <td>2189</td>\n",
       "      <td>2189</td>\n",
       "      <td>65</td>\n",
       "      <td>13</td>\n",
       "      <td>2</td>\n",
       "      <td>1</td>\n",
       "      <td>2</td>\n",
       "      <td>1</td>\n",
       "      <td>17</td>\n",
       "      <td>...</td>\n",
       "      <td>0</td>\n",
       "      <td>0</td>\n",
       "      <td>0</td>\n",
       "      <td>0</td>\n",
       "      <td>0</td>\n",
       "      <td>0</td>\n",
       "      <td>1970-01-01</td>\n",
       "      <td>1970-01-01 00:00:00.000000000</td>\n",
       "      <td>0</td>\n",
       "      <td>0</td>\n",
       "    </tr>\n",
       "    <tr>\n",
       "      <th>33</th>\n",
       "      <td>55686</td>\n",
       "      <td>2170</td>\n",
       "      <td>2170</td>\n",
       "      <td>68</td>\n",
       "      <td>12</td>\n",
       "      <td>1</td>\n",
       "      <td>1</td>\n",
       "      <td>2</td>\n",
       "      <td>1</td>\n",
       "      <td>10</td>\n",
       "      <td>...</td>\n",
       "      <td>0</td>\n",
       "      <td>0</td>\n",
       "      <td>0</td>\n",
       "      <td>0</td>\n",
       "      <td>0</td>\n",
       "      <td>0</td>\n",
       "      <td>1970-01-01</td>\n",
       "      <td>1970-01-01 00:00:00.000000000</td>\n",
       "      <td>0</td>\n",
       "      <td>0</td>\n",
       "    </tr>\n",
       "    <tr>\n",
       "      <th>86</th>\n",
       "      <td>108501</td>\n",
       "      <td>33960</td>\n",
       "      <td>33960</td>\n",
       "      <td>50</td>\n",
       "      <td>14</td>\n",
       "      <td>1</td>\n",
       "      <td>1</td>\n",
       "      <td>2</td>\n",
       "      <td>1</td>\n",
       "      <td>14</td>\n",
       "      <td>...</td>\n",
       "      <td>0</td>\n",
       "      <td>0</td>\n",
       "      <td>0</td>\n",
       "      <td>0</td>\n",
       "      <td>0</td>\n",
       "      <td>0</td>\n",
       "      <td>1970-01-01</td>\n",
       "      <td>1970-01-01 00:00:00.000201004</td>\n",
       "      <td>0</td>\n",
       "      <td>0</td>\n",
       "    </tr>\n",
       "    <tr>\n",
       "      <th>129</th>\n",
       "      <td>153673</td>\n",
       "      <td>1624</td>\n",
       "      <td>0</td>\n",
       "      <td>67</td>\n",
       "      <td>12</td>\n",
       "      <td>2</td>\n",
       "      <td>1</td>\n",
       "      <td>1</td>\n",
       "      <td>3</td>\n",
       "      <td>4</td>\n",
       "      <td>...</td>\n",
       "      <td>0</td>\n",
       "      <td>0</td>\n",
       "      <td>0</td>\n",
       "      <td>0</td>\n",
       "      <td>0</td>\n",
       "      <td>0</td>\n",
       "      <td>1970-01-01</td>\n",
       "      <td>1970-01-01 00:00:00.000000000</td>\n",
       "      <td>0</td>\n",
       "      <td>0</td>\n",
       "    </tr>\n",
       "    <tr>\n",
       "      <th>150</th>\n",
       "      <td>174603</td>\n",
       "      <td>62958</td>\n",
       "      <td>62958</td>\n",
       "      <td>60</td>\n",
       "      <td>12</td>\n",
       "      <td>2</td>\n",
       "      <td>1</td>\n",
       "      <td>1</td>\n",
       "      <td>2</td>\n",
       "      <td>10</td>\n",
       "      <td>...</td>\n",
       "      <td>0</td>\n",
       "      <td>0</td>\n",
       "      <td>0</td>\n",
       "      <td>0</td>\n",
       "      <td>0</td>\n",
       "      <td>0</td>\n",
       "      <td>1970-01-01</td>\n",
       "      <td>1970-01-01 00:00:00.000201003</td>\n",
       "      <td>0</td>\n",
       "      <td>0</td>\n",
       "    </tr>\n",
       "    <tr>\n",
       "      <th>...</th>\n",
       "      <td>...</td>\n",
       "      <td>...</td>\n",
       "      <td>...</td>\n",
       "      <td>...</td>\n",
       "      <td>...</td>\n",
       "      <td>...</td>\n",
       "      <td>...</td>\n",
       "      <td>...</td>\n",
       "      <td>...</td>\n",
       "      <td>...</td>\n",
       "      <td>...</td>\n",
       "      <td>...</td>\n",
       "      <td>...</td>\n",
       "      <td>...</td>\n",
       "      <td>...</td>\n",
       "      <td>...</td>\n",
       "      <td>...</td>\n",
       "      <td>...</td>\n",
       "      <td>...</td>\n",
       "      <td>...</td>\n",
       "      <td>...</td>\n",
       "    </tr>\n",
       "    <tr>\n",
       "      <th>3983</th>\n",
       "      <td>4607235</td>\n",
       "      <td>24695</td>\n",
       "      <td>24695</td>\n",
       "      <td>23</td>\n",
       "      <td>10</td>\n",
       "      <td>2</td>\n",
       "      <td>0</td>\n",
       "      <td>2</td>\n",
       "      <td>3</td>\n",
       "      <td>3</td>\n",
       "      <td>...</td>\n",
       "      <td>0</td>\n",
       "      <td>0</td>\n",
       "      <td>0</td>\n",
       "      <td>0</td>\n",
       "      <td>0</td>\n",
       "      <td>0</td>\n",
       "      <td>1970-01-01</td>\n",
       "      <td>1970-01-01 00:00:00.000000000</td>\n",
       "      <td>0</td>\n",
       "      <td>0</td>\n",
       "    </tr>\n",
       "    <tr>\n",
       "      <th>3985</th>\n",
       "      <td>4609371</td>\n",
       "      <td>38169</td>\n",
       "      <td>38169</td>\n",
       "      <td>37</td>\n",
       "      <td>12</td>\n",
       "      <td>2</td>\n",
       "      <td>1</td>\n",
       "      <td>2</td>\n",
       "      <td>1</td>\n",
       "      <td>19</td>\n",
       "      <td>...</td>\n",
       "      <td>0</td>\n",
       "      <td>0</td>\n",
       "      <td>0</td>\n",
       "      <td>0</td>\n",
       "      <td>0</td>\n",
       "      <td>0</td>\n",
       "      <td>1970-01-01</td>\n",
       "      <td>1970-01-01 00:00:00.000000000</td>\n",
       "      <td>0</td>\n",
       "      <td>0</td>\n",
       "    </tr>\n",
       "    <tr>\n",
       "      <th>3996</th>\n",
       "      <td>4621371</td>\n",
       "      <td>41156</td>\n",
       "      <td>41156</td>\n",
       "      <td>37</td>\n",
       "      <td>12</td>\n",
       "      <td>1</td>\n",
       "      <td>1</td>\n",
       "      <td>3</td>\n",
       "      <td>1</td>\n",
       "      <td>17</td>\n",
       "      <td>...</td>\n",
       "      <td>0</td>\n",
       "      <td>0</td>\n",
       "      <td>0</td>\n",
       "      <td>0</td>\n",
       "      <td>0</td>\n",
       "      <td>0</td>\n",
       "      <td>1970-01-01</td>\n",
       "      <td>1970-01-01 00:00:00.000201003</td>\n",
       "      <td>0</td>\n",
       "      <td>0</td>\n",
       "    </tr>\n",
       "    <tr>\n",
       "      <th>4000</th>\n",
       "      <td>4626536</td>\n",
       "      <td>2121</td>\n",
       "      <td>2121</td>\n",
       "      <td>53</td>\n",
       "      <td>11</td>\n",
       "      <td>2</td>\n",
       "      <td>0</td>\n",
       "      <td>2</td>\n",
       "      <td>2</td>\n",
       "      <td>18</td>\n",
       "      <td>...</td>\n",
       "      <td>0</td>\n",
       "      <td>0</td>\n",
       "      <td>0</td>\n",
       "      <td>0</td>\n",
       "      <td>0</td>\n",
       "      <td>0</td>\n",
       "      <td>1970-01-01</td>\n",
       "      <td>1970-01-01 00:00:00.000000000</td>\n",
       "      <td>0</td>\n",
       "      <td>0</td>\n",
       "    </tr>\n",
       "    <tr>\n",
       "      <th>4001</th>\n",
       "      <td>4627251</td>\n",
       "      <td>41771</td>\n",
       "      <td>41771</td>\n",
       "      <td>25</td>\n",
       "      <td>11</td>\n",
       "      <td>2</td>\n",
       "      <td>1</td>\n",
       "      <td>3</td>\n",
       "      <td>1</td>\n",
       "      <td>13</td>\n",
       "      <td>...</td>\n",
       "      <td>0</td>\n",
       "      <td>0</td>\n",
       "      <td>0</td>\n",
       "      <td>0</td>\n",
       "      <td>0</td>\n",
       "      <td>0</td>\n",
       "      <td>1970-01-01</td>\n",
       "      <td>1970-01-01 00:00:00.000000000</td>\n",
       "      <td>0</td>\n",
       "      <td>0</td>\n",
       "    </tr>\n",
       "  </tbody>\n",
       "</table>\n",
       "<p>309 rows × 145 columns</p>\n",
       "</div>"
      ],
      "text/plain": [
       "      caseid_new  weight1  weight2  ppage ppeduc ppgender pphhhead  \\\n",
       "11         32656     2189     2189     65     13        2        1   \n",
       "33         55686     2170     2170     68     12        1        1   \n",
       "86        108501    33960    33960     50     14        1        1   \n",
       "129       153673     1624        0     67     12        2        1   \n",
       "150       174603    62958    62958     60     12        2        1   \n",
       "...          ...      ...      ...    ...    ...      ...      ...   \n",
       "3983     4607235    24695    24695     23     10        2        0   \n",
       "3985     4609371    38169    38169     37     12        2        1   \n",
       "3996     4621371    41156    41156     37     12        1        1   \n",
       "4000     4626536     2121     2121     53     11        2        0   \n",
       "4001     4627251    41771    41771     25     11        2        1   \n",
       "\n",
       "      pphouseholdsize pphouse ppincimp  ... pp2_ppt1317 pp2_ppt18ov pp2_ppt25  \\\n",
       "11                  2       1       17  ...           0           0         0   \n",
       "33                  2       1       10  ...           0           0         0   \n",
       "86                  2       1       14  ...           0           0         0   \n",
       "129                 1       3        4  ...           0           0         0   \n",
       "150                 1       2       10  ...           0           0         0   \n",
       "...               ...     ...      ...  ...         ...         ...       ...   \n",
       "3983                2       3        3  ...           0           0         0   \n",
       "3985                2       1       19  ...           0           0         0   \n",
       "3996                3       1       17  ...           0           0         0   \n",
       "4000                2       2       18  ...           0           0         0   \n",
       "4001                3       1       13  ...           0           0         0   \n",
       "\n",
       "      pp2_ppt612  pp2_ppwork pp2_ppnet pp2_ppcmdate_yrmo  \\\n",
       "11             0           0         0        1970-01-01   \n",
       "33             0           0         0        1970-01-01   \n",
       "86             0           0         0        1970-01-01   \n",
       "129            0           0         0        1970-01-01   \n",
       "150            0           0         0        1970-01-01   \n",
       "...          ...         ...       ...               ...   \n",
       "3983           0           0         0        1970-01-01   \n",
       "3985           0           0         0        1970-01-01   \n",
       "3996           0           0         0        1970-01-01   \n",
       "4000           0           0         0        1970-01-01   \n",
       "4001           0           0         0        1970-01-01   \n",
       "\n",
       "       w2_HCMST_interview_fin_yrmo w2_q10 w2_broke_up  \n",
       "11   1970-01-01 00:00:00.000000000      0           0  \n",
       "33   1970-01-01 00:00:00.000000000      0           0  \n",
       "86   1970-01-01 00:00:00.000201004      0           0  \n",
       "129  1970-01-01 00:00:00.000000000      0           0  \n",
       "150  1970-01-01 00:00:00.000201003      0           0  \n",
       "...                            ...    ...         ...  \n",
       "3983 1970-01-01 00:00:00.000000000      0           0  \n",
       "3985 1970-01-01 00:00:00.000000000      0           0  \n",
       "3996 1970-01-01 00:00:00.000201003      0           0  \n",
       "4000 1970-01-01 00:00:00.000000000      0           0  \n",
       "4001 1970-01-01 00:00:00.000000000      0           0  \n",
       "\n",
       "[309 rows x 145 columns]"
      ]
     },
     "execution_count": 27,
     "metadata": {},
     "output_type": "execute_result"
    }
   ],
   "source": [
    "pphhsize2_zero = df[df['pp2_pphhsize'] == 0]\n",
    "pphhsize2_zero"
   ]
  },
  {
   "cell_type": "code",
   "execution_count": 28,
   "metadata": {},
   "outputs": [
    {
     "data": {
      "text/plain": [
       "ppgender\n",
       "2    2035\n",
       "1    1967\n",
       "Name: count, dtype: int64"
      ]
     },
     "execution_count": 28,
     "metadata": {},
     "output_type": "execute_result"
    }
   ],
   "source": [
    "df.ppgender.value_counts()\n",
    "# Makority of the respondents are women"
   ]
  },
  {
   "cell_type": "code",
   "execution_count": 29,
   "metadata": {},
   "outputs": [
    {
     "data": {
      "text/plain": [
       "s1\n",
       "2    2071\n",
       "1    1931\n",
       "Name: count, dtype: int64"
      ]
     },
     "execution_count": 29,
     "metadata": {},
     "output_type": "execute_result"
    }
   ],
   "source": [
    "df.s1.value_counts()\n",
    "# Still  married"
   ]
  },
  {
   "cell_type": "code",
   "execution_count": null,
   "metadata": {},
   "outputs": [],
   "source": []
  },
  {
   "cell_type": "markdown",
   "metadata": {},
   "source": [
    "#Data Preprocessing"
   ]
  },
  {
   "cell_type": "code",
   "execution_count": 30,
   "metadata": {},
   "outputs": [],
   "source": [
    "\n",
    "#Religion\n",
    "religion_mapping = {\n",
    "    1: \"Baptist- any denomination\",\n",
    "    2: \"Protestant\",\n",
    "    3: \"Catholic\",\n",
    "    4: \"Mormon\",\n",
    "    5: \"Jewish\",\n",
    "    6: \"Muslim\",\n",
    "    7: \"Hindu\",\n",
    "    8: \"Buddhist\",\n",
    "    9: \"Pentecostal\",\n",
    "    10: \"Eastern Orthodox\",\n",
    "    11: \"Other Christian\",\n",
    "    12: \"Other non-Christian\",\n",
    "    13: \"None\"\n",
    "}"
   ]
  },
  {
   "cell_type": "code",
   "execution_count": 31,
   "metadata": {},
   "outputs": [
    {
     "data": {
      "text/html": [
       "<div>\n",
       "<style scoped>\n",
       "    .dataframe tbody tr th:only-of-type {\n",
       "        vertical-align: middle;\n",
       "    }\n",
       "\n",
       "    .dataframe tbody tr th {\n",
       "        vertical-align: top;\n",
       "    }\n",
       "\n",
       "    .dataframe thead th {\n",
       "        text-align: right;\n",
       "    }\n",
       "</style>\n",
       "<table border=\"1\" class=\"dataframe\">\n",
       "  <thead>\n",
       "    <tr style=\"text-align: right;\">\n",
       "      <th></th>\n",
       "      <th>Count</th>\n",
       "      <th>Percentage</th>\n",
       "    </tr>\n",
       "    <tr>\n",
       "      <th>papreligion</th>\n",
       "      <th></th>\n",
       "      <th></th>\n",
       "    </tr>\n",
       "  </thead>\n",
       "  <tbody>\n",
       "    <tr>\n",
       "      <th>Muslim</th>\n",
       "      <td>8</td>\n",
       "      <td>0.2</td>\n",
       "    </tr>\n",
       "    <tr>\n",
       "      <th>Hindu</th>\n",
       "      <td>13</td>\n",
       "      <td>0.3</td>\n",
       "    </tr>\n",
       "    <tr>\n",
       "      <th>Eastern Orthodox</th>\n",
       "      <td>15</td>\n",
       "      <td>0.4</td>\n",
       "    </tr>\n",
       "    <tr>\n",
       "      <th>Buddhist</th>\n",
       "      <td>33</td>\n",
       "      <td>0.8</td>\n",
       "    </tr>\n",
       "    <tr>\n",
       "      <th>Mormon</th>\n",
       "      <td>66</td>\n",
       "      <td>1.7</td>\n",
       "    </tr>\n",
       "    <tr>\n",
       "      <th>Jewish</th>\n",
       "      <td>110</td>\n",
       "      <td>2.8</td>\n",
       "    </tr>\n",
       "    <tr>\n",
       "      <th>Pentecostal</th>\n",
       "      <td>110</td>\n",
       "      <td>2.8</td>\n",
       "    </tr>\n",
       "    <tr>\n",
       "      <th>Other non-Christian</th>\n",
       "      <td>172</td>\n",
       "      <td>4.3</td>\n",
       "    </tr>\n",
       "    <tr>\n",
       "      <th>Other Christian</th>\n",
       "      <td>482</td>\n",
       "      <td>12.1</td>\n",
       "    </tr>\n",
       "    <tr>\n",
       "      <th>Baptist- any denomination</th>\n",
       "      <td>523</td>\n",
       "      <td>13.1</td>\n",
       "    </tr>\n",
       "    <tr>\n",
       "      <th>None</th>\n",
       "      <td>640</td>\n",
       "      <td>16.1</td>\n",
       "    </tr>\n",
       "    <tr>\n",
       "      <th>Catholic</th>\n",
       "      <td>897</td>\n",
       "      <td>22.5</td>\n",
       "    </tr>\n",
       "    <tr>\n",
       "      <th>Protestant</th>\n",
       "      <td>918</td>\n",
       "      <td>23.0</td>\n",
       "    </tr>\n",
       "  </tbody>\n",
       "</table>\n",
       "</div>"
      ],
      "text/plain": [
       "                           Count  Percentage\n",
       "papreligion                                 \n",
       "Muslim                         8         0.2\n",
       "Hindu                         13         0.3\n",
       "Eastern Orthodox              15         0.4\n",
       "Buddhist                      33         0.8\n",
       "Mormon                        66         1.7\n",
       "Jewish                       110         2.8\n",
       "Pentecostal                  110         2.8\n",
       "Other non-Christian          172         4.3\n",
       "Other Christian              482        12.1\n",
       "Baptist- any denomination    523        13.1\n",
       "None                         640        16.1\n",
       "Catholic                     897        22.5\n",
       "Protestant                   918        23.0"
      ]
     },
     "execution_count": 31,
     "metadata": {},
     "output_type": "execute_result"
    }
   ],
   "source": [
    "religion_counts = df['papreligion'].map(religion_mapping).value_counts()\n",
    "\n",
    "# Compute percentages\n",
    "religion_percentages = (religion_counts / religion_counts.sum() * 100).round(1)\n",
    "\n",
    "# Create a DataFrame with counts and percentages\n",
    "religion_distribution = pd.DataFrame({\n",
    "    'Count': religion_counts,\n",
    "    'Percentage': religion_percentages\n",
    "})\n",
    "\n",
    "religion_distribution.sort_values(by='Count')"
   ]
  },
  {
   "cell_type": "code",
   "execution_count": 32,
   "metadata": {},
   "outputs": [
    {
     "data": {
      "text/html": [
       "<div>\n",
       "<style scoped>\n",
       "    .dataframe tbody tr th:only-of-type {\n",
       "        vertical-align: middle;\n",
       "    }\n",
       "\n",
       "    .dataframe tbody tr th {\n",
       "        vertical-align: top;\n",
       "    }\n",
       "\n",
       "    .dataframe thead th {\n",
       "        text-align: right;\n",
       "    }\n",
       "</style>\n",
       "<table border=\"1\" class=\"dataframe\">\n",
       "  <thead>\n",
       "    <tr style=\"text-align: right;\">\n",
       "      <th></th>\n",
       "      <th>Count</th>\n",
       "      <th>Percentage</th>\n",
       "    </tr>\n",
       "    <tr>\n",
       "      <th>q7b</th>\n",
       "      <th></th>\n",
       "      <th></th>\n",
       "    </tr>\n",
       "  </thead>\n",
       "  <tbody>\n",
       "    <tr>\n",
       "      <th>Hindu</th>\n",
       "      <td>8</td>\n",
       "      <td>0.3</td>\n",
       "    </tr>\n",
       "    <tr>\n",
       "      <th>Eastern Orthodox</th>\n",
       "      <td>11</td>\n",
       "      <td>0.4</td>\n",
       "    </tr>\n",
       "    <tr>\n",
       "      <th>Muslim</th>\n",
       "      <td>13</td>\n",
       "      <td>0.4</td>\n",
       "    </tr>\n",
       "    <tr>\n",
       "      <th>Buddhist</th>\n",
       "      <td>18</td>\n",
       "      <td>0.6</td>\n",
       "    </tr>\n",
       "    <tr>\n",
       "      <th>Other non-Christian</th>\n",
       "      <td>56</td>\n",
       "      <td>1.9</td>\n",
       "    </tr>\n",
       "    <tr>\n",
       "      <th>Mormon</th>\n",
       "      <td>65</td>\n",
       "      <td>2.2</td>\n",
       "    </tr>\n",
       "    <tr>\n",
       "      <th>Pentecostal</th>\n",
       "      <td>71</td>\n",
       "      <td>2.4</td>\n",
       "    </tr>\n",
       "    <tr>\n",
       "      <th>Jewish</th>\n",
       "      <td>83</td>\n",
       "      <td>2.8</td>\n",
       "    </tr>\n",
       "    <tr>\n",
       "      <th>Other Christian</th>\n",
       "      <td>372</td>\n",
       "      <td>12.4</td>\n",
       "    </tr>\n",
       "    <tr>\n",
       "      <th>Baptist- any denomination</th>\n",
       "      <td>422</td>\n",
       "      <td>14.1</td>\n",
       "    </tr>\n",
       "    <tr>\n",
       "      <th>None</th>\n",
       "      <td>542</td>\n",
       "      <td>18.0</td>\n",
       "    </tr>\n",
       "    <tr>\n",
       "      <th>Protestant</th>\n",
       "      <td>663</td>\n",
       "      <td>22.1</td>\n",
       "    </tr>\n",
       "    <tr>\n",
       "      <th>Catholic</th>\n",
       "      <td>679</td>\n",
       "      <td>22.6</td>\n",
       "    </tr>\n",
       "  </tbody>\n",
       "</table>\n",
       "</div>"
      ],
      "text/plain": [
       "                           Count  Percentage\n",
       "q7b                                         \n",
       "Hindu                          8         0.3\n",
       "Eastern Orthodox              11         0.4\n",
       "Muslim                        13         0.4\n",
       "Buddhist                      18         0.6\n",
       "Other non-Christian           56         1.9\n",
       "Mormon                        65         2.2\n",
       "Pentecostal                   71         2.4\n",
       "Jewish                        83         2.8\n",
       "Other Christian              372        12.4\n",
       "Baptist- any denomination    422        14.1\n",
       "None                         542        18.0\n",
       "Protestant                   663        22.1\n",
       "Catholic                     679        22.6"
      ]
     },
     "execution_count": 32,
     "metadata": {},
     "output_type": "execute_result"
    }
   ],
   "source": [
    "partner_religion_mapping = {\n",
    "    1: \"Baptist- any denomination\",\n",
    "    2: \"Protestant\",\n",
    "    3: \"Catholic\",\n",
    "    4: \"Mormon\",\n",
    "    5: \"Jewish\",\n",
    "    6: \"Muslim\",\n",
    "    7: \"Hindu\",\n",
    "    8: \"Buddhist\",\n",
    "    9: \"Pentecostal\",\n",
    "    10: \"Eastern Orthodox\",\n",
    "    11: \"Other Christian\",\n",
    "    12: \"Other non-Christian\",\n",
    "    13: \"None\"\n",
    "}\n",
    "partner_religion_counts = df['q7b'].map(partner_religion_mapping).value_counts()\n",
    "\n",
    "# Compute percentages\n",
    "partner_religion_percentages = (partner_religion_counts / partner_religion_counts.sum() * 100).round(1)\n",
    "\n",
    "# Create a DataFrame with counts and percentages\n",
    "partner_religion_distribution = pd.DataFrame({\n",
    "    'Count': partner_religion_counts,\n",
    "    'Percentage': partner_religion_percentages\n",
    "})\n",
    "\n",
    "partner_religion_distribution.sort_values(by='Count')"
   ]
  },
  {
   "cell_type": "code",
   "execution_count": 33,
   "metadata": {},
   "outputs": [
    {
     "name": "stderr",
     "output_type": "stream",
     "text": [
      "/tmp/ipykernel_7713/2506132447.py:14: SettingWithCopyWarning: \n",
      "A value is trying to be set on a copy of a slice from a DataFrame.\n",
      "Try using .loc[row_indexer,col_indexer] = value instead\n",
      "\n",
      "See the caveats in the documentation: https://pandas.pydata.org/pandas-docs/stable/user_guide/indexing.html#returning-a-view-versus-a-copy\n",
      "  matching_religion['relationship_quality'] = matching_religion['q34'].map(relationship_quality_mapping )\n"
     ]
    },
    {
     "data": {
      "text/html": [
       "<div>\n",
       "<style scoped>\n",
       "    .dataframe tbody tr th:only-of-type {\n",
       "        vertical-align: middle;\n",
       "    }\n",
       "\n",
       "    .dataframe tbody tr th {\n",
       "        vertical-align: top;\n",
       "    }\n",
       "\n",
       "    .dataframe thead th {\n",
       "        text-align: right;\n",
       "    }\n",
       "</style>\n",
       "<table border=\"1\" class=\"dataframe\">\n",
       "  <thead>\n",
       "    <tr style=\"text-align: right;\">\n",
       "      <th></th>\n",
       "      <th>Relationship Quality</th>\n",
       "      <th>Count</th>\n",
       "      <th>Percentage</th>\n",
       "    </tr>\n",
       "  </thead>\n",
       "  <tbody>\n",
       "    <tr>\n",
       "      <th>0</th>\n",
       "      <td>Excellent</td>\n",
       "      <td>1011</td>\n",
       "      <td>63.3</td>\n",
       "    </tr>\n",
       "    <tr>\n",
       "      <th>1</th>\n",
       "      <td>Fair</td>\n",
       "      <td>106</td>\n",
       "      <td>6.6</td>\n",
       "    </tr>\n",
       "    <tr>\n",
       "      <th>2</th>\n",
       "      <td>Good</td>\n",
       "      <td>452</td>\n",
       "      <td>28.3</td>\n",
       "    </tr>\n",
       "    <tr>\n",
       "      <th>3</th>\n",
       "      <td>Poor</td>\n",
       "      <td>19</td>\n",
       "      <td>1.2</td>\n",
       "    </tr>\n",
       "    <tr>\n",
       "      <th>4</th>\n",
       "      <td>Very Poor</td>\n",
       "      <td>9</td>\n",
       "      <td>0.6</td>\n",
       "    </tr>\n",
       "  </tbody>\n",
       "</table>\n",
       "</div>"
      ],
      "text/plain": [
       "  Relationship Quality  Count  Percentage\n",
       "0            Excellent   1011        63.3\n",
       "1                 Fair    106         6.6\n",
       "2                 Good    452        28.3\n",
       "3                 Poor     19         1.2\n",
       "4            Very Poor      9         0.6"
      ]
     },
     "execution_count": 33,
     "metadata": {},
     "output_type": "execute_result"
    }
   ],
   "source": [
    "relationship_quality_mapping = {\n",
    "    1: \"Excellent\",\n",
    "    2: \"Good\",\n",
    "    3: \"Fair\",\n",
    "    4: \"Poor\",\n",
    "    5: \"Very Poor\"\n",
    "}\n",
    "papreligion_temp = df['papreligion'].astype(str)\n",
    "q7b_temp = df['q7b'].astype(str)\n",
    "\n",
    "# Filter for rows where respondent's religion matches the partner's religion for each unique 'caseid'\n",
    "matching_religion = df[df['caseid_new'].isin(df[papreligion_temp == q7b_temp]['caseid_new'])]\n",
    "\n",
    "matching_religion['relationship_quality'] = matching_religion['q34'].map(relationship_quality_mapping )\n",
    "\n",
    "# Calculate the frequency of each relationship quality (q34_mapped) among those respondents\n",
    "relationship_quality_counts = matching_religion['relationship_quality'].value_counts().sort_index()\n",
    "\n",
    "# Convert counts to percentages\n",
    "total_matching = relationship_quality_counts.sum()\n",
    "relationship_quality_percentages = (relationship_quality_counts / total_matching * 100).round(1)\n",
    "\n",
    "# Create a DataFrame with counts and percentages for relationship quality\n",
    "relationship_quality_distribution = pd.DataFrame({\n",
    "    'Relationship Quality': relationship_quality_counts.index,\n",
    "    'Count': relationship_quality_counts.values,\n",
    "    'Percentage': relationship_quality_percentages.values\n",
    "})\n",
    "\n",
    "# Display the resulting DataFrame\n",
    "relationship_quality_distribution"
   ]
  },
  {
   "cell_type": "code",
   "execution_count": 34,
   "metadata": {},
   "outputs": [
    {
     "data": {
      "text/plain": [
       "caseid_new                     0\n",
       "weight1                        0\n",
       "weight2                        0\n",
       "ppage                          0\n",
       "ppeduc                         0\n",
       "                              ..\n",
       "pp2_ppnet                      0\n",
       "pp2_ppcmdate_yrmo              0\n",
       "w2_HCMST_interview_fin_yrmo    0\n",
       "w2_q10                         0\n",
       "w2_broke_up                    0\n",
       "Length: 145, dtype: int64"
      ]
     },
     "execution_count": 34,
     "metadata": {},
     "output_type": "execute_result"
    }
   ],
   "source": [
    "df.isnull().sum()"
   ]
  },
  {
   "cell_type": "code",
   "execution_count": 35,
   "metadata": {},
   "outputs": [],
   "source": [
    "from sklearn.preprocessing import OneHotEncoder, StandardScaler\n",
    "from sklearn.compose import ColumnTransformer\n",
    "\n",
    "# Define transformers\n",
    "preprocessor = ColumnTransformer([\n",
    "    (\"num\", StandardScaler(), numerical_columns),   # Scale numerical features\n",
    "    (\"cat\", OneHotEncoder(handle_unknown='ignore'), categorical_columns) # Encode categorical\n",
    "])\n",
    "\n",
    "# Apply transformation\n",
    "X = preprocessor.fit_transform(df)"
   ]
  },
  {
   "cell_type": "code",
   "execution_count": 36,
   "metadata": {},
   "outputs": [],
   "source": [
    "df['relationship_duration'] = df['HCMST_main_interview_yrmo'] - df['ppppcmdate_yrmo']\n",
    "df['time_since_meeting'] = df['HCMST_main_interview_yrmo'] - df['pppadate_yrmo']\n",
    "\n",
    "# Drop original date columns\n",
    "df = df.drop(columns=date_columns)"
   ]
  },
  {
   "cell_type": "code",
   "execution_count": 37,
   "metadata": {},
   "outputs": [
    {
     "data": {
      "text/plain": [
       "caseid_new               0\n",
       "weight1                  0\n",
       "weight2                  0\n",
       "ppage                    0\n",
       "ppeduc                   0\n",
       "                        ..\n",
       "pp2_ppnet                0\n",
       "w2_q10                   0\n",
       "w2_broke_up              0\n",
       "relationship_duration    0\n",
       "time_since_meeting       0\n",
       "Length: 142, dtype: int64"
      ]
     },
     "execution_count": 37,
     "metadata": {},
     "output_type": "execute_result"
    }
   ],
   "source": [
    "df.isnull().sum().sort_values(ascending=False)\n"
   ]
  },
  {
   "cell_type": "code",
   "execution_count": 38,
   "metadata": {},
   "outputs": [
    {
     "data": {
      "image/png": "[encoded data removed]",
      "text/plain": [
       "<Figure size 640x480 with 1 Axes>"
      ]
     },
     "metadata": {},
     "output_type": "display_data"
    }
   ],
   "source": [
    "from sklearn.cluster import KMeans\n",
    "import matplotlib.pyplot as plt\n",
    "\n",
    "inertia = []\n",
    "for k in range(2, 11):\n",
    "    kmeans = KMeans(n_clusters=k, random_state=42)\n",
    "    kmeans.fit(X)\n",
    "    inertia.append(kmeans.inertia_)\n",
    "\n",
    "plt.plot(range(2, 11), inertia, marker='o')\n",
    "plt.xlabel('Number of Clusters')\n",
    "plt.ylabel('Inertia')\n",
    "plt.show()\n"
   ]
  },
  {
   "cell_type": "code",
   "execution_count": null,
   "metadata": {},
   "outputs": [],
   "source": [
    "kmeans = KMeans(n_clusters=4,random_state=42)\n",
    "df['cluster'] = kmeans.fit_predict(X)\n"
   ]
  },
  {
   "cell_type": "code",
   "execution_count": 182,
   "metadata": {},
   "outputs": [
    {
     "data": {
      "image/png": "[encoded data removed]",
      "text/plain": [
       "<Figure size 640x480 with 1 Axes>"
      ]
     },
     "metadata": {},
     "output_type": "display_data"
    }
   ],
   "source": [
    "from sklearn.decomposition import PCA\n",
    "import seaborn as sns\n",
    "\n",
    "pca = PCA(n_components=2)\n",
    "X_pca = pca.fit_transform(X)\n",
    "\n",
    "sns.scatterplot(x=X_pca[:, 0], y=X_pca[:, 1], hue=df['cluster'])\n",
    "plt.show()"
   ]
  },
  {
   "cell_type": "code",
   "execution_count": 92,
   "metadata": {},
   "outputs": [],
   "source": [
    "#Age"
   ]
  },
  {
   "cell_type": "code",
   "execution_count": 183,
   "metadata": {},
   "outputs": [],
   "source": [
    "for column in ['q21b', 'q9', 'ppage',\"q21a\"]:\n",
    "    mean_value = df[column].replace(0, pd.NA).mean()  # Calculate mean excluding zeros\n",
    "    df[column] = df[column].replace(0, mean_value)  # Replace zeros with the mean\n"
   ]
  },
  {
   "cell_type": "code",
   "execution_count": 184,
   "metadata": {},
   "outputs": [
    {
     "name": "stdout",
     "output_type": "stream",
     "text": [
      "              mean  median\n",
      "cluster                   \n",
      "0        62.942771    62.0\n",
      "1        52.508982    52.0\n",
      "2        50.612286    53.0\n",
      "3        33.855547    33.0\n"
     ]
    }
   ],
   "source": [
    "# Calculate mean and median for numerical variables\n",
    "cluster_summary = df.groupby('cluster')[\"ppage\"].agg(['mean', 'median'])\n",
    "print(cluster_summary)\n",
    "\n"
   ]
  },
  {
   "cell_type": "code",
   "execution_count": 185,
   "metadata": {},
   "outputs": [
    {
     "name": "stdout",
     "output_type": "stream",
     "text": [
      "cluster\n",
      "0    3\n",
      "1    2\n",
      "2    2\n",
      "3    3\n",
      "Name: papreligion, dtype: category\n",
      "Categories (15, object): [0, 1, 2, 3, ..., 11, 12, 13, 'Unknown']\n"
     ]
    },
    {
     "data": {
      "text/plain": [
       "' 2: \"Protestant\",\\n    3: \"Catholic\"\\n    13: \"None\"'"
      ]
     },
     "execution_count": 185,
     "metadata": {},
     "output_type": "execute_result"
    }
   ],
   "source": [
    "mode_summary = df.groupby('cluster')['papreligion'].agg(lambda x: x.mode().iloc[0] if not x.mode().empty else None)\n",
    "print(mode_summary)\n",
    "\n",
    "''' 2: \"Protestant\",\n",
    "    3: \"Catholic\"\n",
    "    13: \"None\"'''\n"
   ]
  },
  {
   "cell_type": "code",
   "execution_count": null,
   "metadata": {},
   "outputs": [
    {
     "data": {
      "text/plain": [
       "cluster\n",
       "3    1080\n",
       "2     993\n",
       "1     970\n",
       "0     959\n",
       "Name: count, dtype: int64"
      ]
     },
     "execution_count": 130,
     "metadata": {},
     "output_type": "execute_result"
    }
   ],
   "source": [
    "df['cluster'].value_counts()"
   ]
  },
  {
   "cell_type": "code",
   "execution_count": null,
   "metadata": {},
   "outputs": [
    {
     "name": "stdout",
     "output_type": "stream",
     "text": [
      "              mean     median\n",
      "cluster                      \n",
      "0        63.467683  62.000000\n",
      "1        49.903842  49.000000\n",
      "2        46.117279  46.108325\n",
      "3        34.687168  34.000000\n"
     ]
    }
   ],
   "source": [
    "# Calculate mean and median for numerical variables\n",
    "cluster_summary = df.groupby('cluster')[\"q9\"].agg(['mean', 'median'])\n",
    "print(cluster_summary)\n",
    "#Q9. How old is [Partner_Name]? \n"
   ]
  },
  {
   "cell_type": "code",
   "execution_count": null,
   "metadata": {},
   "outputs": [
    {
     "name": "stdout",
     "output_type": "stream",
     "text": [
      "cluster\n",
      "0    20.000000\n",
      "1    40.000000\n",
      "2    28.786457\n",
      "3    18.000000\n",
      "Name: q21b, dtype: float64\n"
     ]
    }
   ],
   "source": [
    "mode_summary = df.groupby('cluster')['q21b'].agg(lambda x: x.mode().iloc[0] if not x.mode().empty else None)\n",
    "print(mode_summary)\n",
    "#Q21B. How old were you when your romantic relationship with [Partner_Name] began?"
   ]
  },
  {
   "cell_type": "code",
   "execution_count": 190,
   "metadata": {},
   "outputs": [
    {
     "name": "stdout",
     "output_type": "stream",
     "text": [
      "             mean    median\n",
      "cluster                    \n",
      "0        4.650812  4.000000\n",
      "1        7.579620  6.000000\n",
      "2        5.360171  5.350453\n",
      "3        4.026021  3.000000\n",
      "cluster\n",
      "0    1.000000\n",
      "1    1.000000\n",
      "2    5.350453\n",
      "3    1.000000\n",
      "Name: age_difference, dtype: float64\n"
     ]
    }
   ],
   "source": [
    "mode_summary = df.groupby('cluster')['age_difference'].agg(lambda x: x.mode().iloc[0] if not x.mode().empty else None)\n",
    "# Calculate mean and median for numerical variables\n",
    "cluster_summary = df.groupby('cluster')[\"age_difference\"].agg(['mean', 'median'])\n",
    "print(cluster_summary)\n",
    "print(mode_summary)"
   ]
  },
  {
   "cell_type": "code",
   "execution_count": 133,
   "metadata": {},
   "outputs": [
    {
     "name": "stdout",
     "output_type": "stream",
     "text": [
      "Most influential features (ranked by importance): ['q21a' 'q9' 'weight2' 'q21c' 'q21b' 'pp2_pphhsize' 'ppage'\n",
      " 'pphouseholdsize' 'q21d' 'age_difference' 'pp2_ppt18ov' 'ppt18ov' 'q16'\n",
      " 'children_in_hh' 'weight1' 'caseid_new']\n"
     ]
    }
   ],
   "source": [
    "from sklearn.cluster import KMeans\n",
    "from sklearn.metrics import silhouette_score\n",
    "from sklearn.preprocessing import StandardScaler\n",
    "import numpy as np\n",
    "\n",
    "# Standardize the data\n",
    "scaler = StandardScaler()\n",
    "X_scaled = scaler.fit_transform(df[numerical_columns])\n",
    "\n",
    "# Number of clusters to test\n",
    "n_clusters = 4\n",
    "\n",
    "# K-Means clustering\n",
    "kmeans = KMeans(n_clusters=n_clusters, random_state=42)\n",
    "kmeans.fit(X_scaled)\n",
    "labels = kmeans.labels_\n",
    "\n",
    "# Calculate silhouette score with all features\n",
    "sil_score_all = silhouette_score(X_scaled, labels)\n",
    "\n",
    "# Initialize an array to store silhouette scores excluding each feature\n",
    "sil_scores = []\n",
    "\n",
    "# Iterate through the feature indices and exclude one feature at a time\n",
    "for i in range(X_scaled.shape[1]):\n",
    "    X_excluded = np.delete(X_scaled, i, axis=1)  # Exclude the i-th feature\n",
    "    sil_scores.append(silhouette_score(X_excluded, labels))\n",
    "\n",
    "# Find which feature exclusion led to the greatest drop in silhouette score\n",
    "feature_importance = np.array(sil_scores) - sil_score_all\n",
    "important_features = np.argsort(feature_importance)\n",
    "\n",
    "# Get the names of the most important features\n",
    "important_feature_names = np.array(numerical_columns)[important_features]\n",
    "\n",
    "# Display most influential features\n",
    "print(f\"Most influential features (ranked by importance): {important_feature_names}\")\n"
   ]
  },
  {
   "cell_type": "code",
   "execution_count": null,
   "metadata": {},
   "outputs": [
    {
     "name": "stdout",
     "output_type": "stream",
     "text": [
      "              mean     median\n",
      "cluster                      \n",
      "0        34.156301  33.000000\n",
      "1        27.122570  24.000000\n",
      "2        27.315508  27.315508\n",
      "3        21.414424  20.000000\n"
     ]
    }
   ],
   "source": [
    "# Calculate mean and median for numerical variables\n",
    "#Q21A. How old were you when you first met [Partner_Name]?\n",
    "cluster_summary = df.groupby('cluster')[\"q21a\"].agg(['mean', 'median'])\n",
    "print(cluster_summary)\n",
    "\n"
   ]
  },
  {
   "cell_type": "code",
   "execution_count": null,
   "metadata": {},
   "outputs": [
    {
     "name": "stdout",
     "output_type": "stream",
     "text": [
      "              mean     median\n",
      "cluster                      \n",
      "0        43.249783  43.000000\n",
      "1        59.855198  59.000000\n",
      "2        46.108325  46.108325\n",
      "3        36.299876  35.000000\n"
     ]
    }
   ],
   "source": [
    "# Calculate mean and median for numerical variables\n",
    "#Q9. How old is [Partner_Name]? \n",
    "cluster_summary = df.groupby('cluster')[\"q9\"].agg(['mean', 'median'])\n",
    "print(cluster_summary)\n",
    "\n"
   ]
  },
  {
   "cell_type": "code",
   "execution_count": 141,
   "metadata": {},
   "outputs": [
    {
     "name": "stdout",
     "output_type": "stream",
     "text": [
      "cluster\n",
      "0    49\n",
      "1    59\n",
      "2    20\n",
      "3    29\n",
      "Name: ppage, dtype: int64\n"
     ]
    }
   ],
   "source": [
    "mode_summary = df.groupby('cluster')['ppage'].agg(lambda x: x.mode().iloc[0] if not x.mode().empty else None)\n",
    "print(mode_summary)"
   ]
  },
  {
   "cell_type": "code",
   "execution_count": null,
   "metadata": {},
   "outputs": [
    {
     "name": "stdout",
     "output_type": "stream",
     "text": [
      "cluster\n",
      "0    13\n",
      "1     2\n",
      "2     0\n",
      "3     3\n",
      "Name: q7b, dtype: category\n",
      "Categories (15, int64): [-1, 0, 1, 2, ..., 10, 11, 12, 13]\n"
     ]
    }
   ],
   "source": [
    "#Q7B. What is [Partner_Name]’s religion?\n",
    "mode_summary = df.groupby('cluster')['q7b'].agg(lambda x: x.mode().iloc[0] if not x.mode().empty else None)\n",
    "print(mode_summary)"
   ]
  },
  {
   "cell_type": "code",
   "execution_count": null,
   "metadata": {},
   "outputs": [],
   "source": []
  },
  {
   "cell_type": "markdown",
   "metadata": {},
   "source": [
    "# Another Clustering \n"
   ]
  },
  {
   "cell_type": "code",
   "execution_count": 209,
   "metadata": {},
   "outputs": [
    {
     "name": "stderr",
     "output_type": "stream",
     "text": [
      "/home/learner/Desktop/Love/venv/lib/python3.12/site-packages/openpyxl/worksheet/header_footer.py:48: UserWarning: Cannot parse header or footer so it will be ignored\n",
      "  warn(\"\"\"Cannot parse header or footer so it will be ignored\"\"\")\n"
     ]
    }
   ],
   "source": [
    "import pandas as pd\n",
    "import numpy as np\n",
    "from kmodes.kprototypes import KPrototypes\n",
    "from sklearn.preprocessing import LabelEncoder, StandardScaler\n",
    "\n",
    "# Load your dataset (ensure it has numerical & categorical features)\n",
    "df = pd.read_excel(\"/home/learner/Desktop/Love/HCMST_2009_Data_ver_3.04.xlsx\")\n",
    "\n",
    "# Separate categorical and numerical columns\n",
    "categorical_columns = [\n",
    "    'ppeduc', 'pphhhead', 'pphouse', 'ppincimp', 'ppmarit', \n",
    "    'ppmsacat', 'pprent', 'ppgender', 'ppwork', 'pppartyid3', \n",
    "    'papreligion', 'glbstatus', 'qflag', 'pphispan', 'pprace_white', 'pprace_black', \n",
    "    'pprace_chinese', 'pprace_filipino', 'pprace_japanese', 'pprace_korean',\n",
    "    'pprace_vietnamese', 'pprace_otherasian', 's1a','pp2_respondent_yrsed',\n",
    "    'pprace_nativeamerican', 'pprace_asianindian', 'pprace_hawaiian', \n",
    "    'pprace_guamanian', 'pprace_samoan', 'pprace_otherpacificislander', \n",
    "    'pprace_someotherrace', 's1', 's2', 'q4', 'q5', 'q6a', 'q6b', 'q7b'\n",
    "    ,'q10', 'q15a1_compressed', 'q17b', 'q19', 'q20', \n",
    "    'q22', 'q23', 'q25', 'q26', 'q27', 'q28', \n",
    "    'q29', 'q30', 'q31_1', 'q31_2', 'q31_3', 'q31_4', 'q31_5', 'q31_6', 'q31_7', \n",
    "    'q31_8', 'q31_9', 'q31_other_text_entered', 'q32', 'q33_1', 'q33_2', 'q33_3', \n",
    "    'q33_4', 'q33_5', 'q33_6', 'q33_7', 'q33_other_text_entered', 'q34', 'q24_met_online', \n",
    "    'q24_btwn_I_cowork', 'q24_btwn_I_friend', 'q24_btwn_I_family', 'q24_btwn_I_sig_other', \n",
    "    'q24_btwn_I_neighbor', 'q24_school', 'q24_college', 'q24_military', 'q24_church', \n",
    "    'q24_vol_org', 'q24_customer', 'q24_bar_restaurant', 'q24_internet_dating', \n",
    "    'q24_internet_social_networking', 'q24_internet_game', 'q24_internet_chat', \n",
    "    'q24_internet_community', 'q24_internet_other', 'q24_public', 'q24_private_party', \n",
    "    'q24_blind_date', 'q24_vacation', 'q24_singles_service_non_internet', 'q24_business_trip', \n",
    "    'q24_work_neighbor', 'met_through_friends', 'met_through_family', 'met_through_as_neighbors', \n",
    "    'met_through_as_coworkers', 'parental_approval', 'relationship_quality', 'coresident', \n",
    "    'pp2_afterp1', 'pp2_pphhhead', 'pp2_pphouse', 'pp2_ppincimp', 'pp2_ppmarit', \n",
    "    'pp2_ppmsacat', 'pp2_ppeduc', 'pp2_ppeducat', 'pp2_ppethm', 'pp2_ppreg4', 'pp2_ppreg9', \n",
    "    'pp2_pprent', 'pp2_ppt01', 'pp2_ppt1317', 'pp2_ppt25', 'pp2_ppt612', \n",
    "    'pp2_ppwork', 'pp2_ppnet', 'w2_q10', 'w2_broke_up'\n",
    "]\n",
    "\n",
    "numerical_columns = [\n",
    "    'caseid_new', 'weight1', 'weight2', 'ppage', 'ppt18ov', 'pp2_ppt18ov',  \n",
    "    'pphouseholdsize', 'children_in_hh', 'age_difference', 'pp2_pphhsize', 'q21a', 'q21b', \n",
    "    'q21c', 'q21d', 'q9', 'q16', \n",
    "]\n",
    "for col in numerical_columns:\n",
    "    df[col] = pd.to_numeric(df[col], errors='coerce')  # Convert to float, set errors to NaN if fails\n"
   ]
  },
  {
   "cell_type": "code",
   "execution_count": 213,
   "metadata": {},
   "outputs": [
    {
     "data": {
      "text/plain": [
       "4003"
      ]
     },
     "execution_count": 213,
     "metadata": {},
     "output_type": "execute_result"
    }
   ],
   "source": [
    "len(df)"
   ]
  },
  {
   "cell_type": "code",
   "execution_count": 210,
   "metadata": {},
   "outputs": [
    {
     "name": "stderr",
     "output_type": "stream",
     "text": [
      "/tmp/ipykernel_905929/1811205863.py:27: PerformanceWarning: DataFrame is highly fragmented.  This is usually the result of calling `frame.insert` many times, which has poor performance.  Consider joining all columns at once using pd.concat(axis=1) instead. To get a de-fragmented frame, use `newframe = frame.copy()`\n",
      "  df[\"Cluster\"] = clusters\n"
     ]
    }
   ],
   "source": [
    "\n",
    "from kmodes.kprototypes import KPrototypes\n",
    "from sklearn.impute import SimpleImputer\n",
    "\n",
    "# Identify numerical and categorical columns\n",
    "numerical_columns = df.select_dtypes(include=[\"number\"]).columns.tolist()\n",
    "categorical_columns = df.select_dtypes(include=[\"object\", \"category\"]).columns.tolist()\n",
    "\n",
    "# Impute numerical columns with mean\n",
    "num_imputer = SimpleImputer(strategy=\"mean\")\n",
    "df[numerical_columns] = num_imputer.fit_transform(df[numerical_columns])\n",
    "\n",
    "# Impute categorical columns with \"Unknown\"\n",
    "cat_imputer = SimpleImputer(strategy=\"constant\", fill_value=\"Unknown\")\n",
    "df[categorical_columns] = cat_imputer.fit_transform(df[categorical_columns])\n",
    "\n",
    "# Convert categorical values to strings (ensuring no NaNs)\n",
    "df[categorical_columns] = df[categorical_columns].astype(str)\n",
    "\n",
    "# Convert categorical column indices for KPrototypes\n",
    "cat_indices = [df.columns.get_loc(col) for col in categorical_columns]\n",
    "\n",
    "# Prepare data for clustering\n",
    "X = df.to_numpy()\n",
    "\n",
    "# Apply K-Prototypes clustering\n",
    "kproto = KPrototypes(n_clusters=4, init='Huang', random_state=42)\n",
    "clusters = kproto.fit_predict(X, categorical=cat_indices)\n",
    "\n",
    "# Add cluster labels to the dataframe\n",
    "df[\"Cluster\"] = clusters"
   ]
  },
  {
   "cell_type": "code",
   "execution_count": null,
   "metadata": {},
   "outputs": [
    {
     "name": "stdout",
     "output_type": "stream",
     "text": [
      "Cluster\n",
      "3    1037\n",
      "0    1003\n",
      "2     991\n",
      "1     972\n",
      "Name: count, dtype: int64\n"
     ]
    }
   ],
   "source": [
    "\n",
    "\n",
    "\n",
    "# Print number of people per cluster\n",
    "print(df[\"Cluster\"].value_counts())\n",
    "\n"
   ]
  },
  {
   "cell_type": "code",
   "execution_count": 216,
   "metadata": {},
   "outputs": [
    {
     "name": "stdout",
     "output_type": "stream",
     "text": [
      "              mean  median\n",
      "Cluster                   \n",
      "0        36.020399    39.0\n",
      "1        34.712963    37.0\n",
      "2        34.142281    37.0\n",
      "3        33.018322    36.0\n"
     ]
    }
   ],
   "source": [
    "# Calculate mean and median for numerical variables\n",
    "cluster_summary = df.groupby('Cluster')[\"q9\"].agg(['mean', 'median'])\n",
    "print(cluster_summary)\n",
    "#Q9. How old is [Partner_Name]? \n"
   ]
  },
  {
   "cell_type": "code",
   "execution_count": 217,
   "metadata": {},
   "outputs": [
    {
     "name": "stdout",
     "output_type": "stream",
     "text": [
      "Cluster\n",
      "0    0.0\n",
      "1    0.0\n",
      "2    0.0\n",
      "3    0.0\n",
      "Name: q21b, dtype: float64\n"
     ]
    }
   ],
   "source": [
    "mode_summary = df.groupby('Cluster')['q21b'].agg(lambda x: x.mode().iloc[0] if not x.mode().empty else None)\n",
    "print(mode_summary)\n",
    "#Q21B. How old were you when your romantic relationship with [Partner_Name] began?"
   ]
  },
  {
   "cell_type": "code",
   "execution_count": 219,
   "metadata": {},
   "outputs": [
    {
     "name": "stdout",
     "output_type": "stream",
     "text": [
      "             mean  median\n",
      "Cluster                  \n",
      "0        3.505025     2.0\n",
      "1        3.629630     2.0\n",
      "2        3.378406     2.0\n",
      "3        3.645130     2.0\n",
      "Cluster\n",
      "0    0.0\n",
      "1    0.0\n",
      "2    0.0\n",
      "3    0.0\n",
      "Name: age_difference, dtype: float64\n"
     ]
    }
   ],
   "source": [
    "mode_summary = df.groupby('Cluster')['age_difference'].agg(lambda x: x.mode().iloc[0] if not x.mode().empty else None)\n",
    "# Calculate mean and median for numerical variables\n",
    "cluster_summary = df.groupby('Cluster')[\"age_difference\"].agg(['mean', 'median'])\n",
    "print(cluster_summary)\n",
    "print(mode_summary)"
   ]
  },
  {
   "cell_type": "code",
   "execution_count": 221,
   "metadata": {},
   "outputs": [
    {
     "name": "stdout",
     "output_type": "stream",
     "text": [
      "              mean     median\n",
      "Cluster                      \n",
      "0        21.063232  20.421789\n",
      "1        20.617284  20.000000\n",
      "2        20.648840  20.000000\n",
      "3        19.401157  19.000000\n"
     ]
    }
   ],
   "source": [
    "# Calculate mean and median for numerical variables\n",
    "#Q21A. How old were you when you first met [Partner_Name]?\n",
    "cluster_summary = df.groupby('Cluster')[\"q21a\"].agg(['mean', 'median'])\n",
    "print(cluster_summary)\n",
    "\n"
   ]
  },
  {
   "cell_type": "code",
   "execution_count": 223,
   "metadata": {},
   "outputs": [
    {
     "name": "stdout",
     "output_type": "stream",
     "text": [
      "              mean  median\n",
      "Cluster                   \n",
      "0        36.020399    39.0\n",
      "1        34.712963    37.0\n",
      "2        34.142281    37.0\n",
      "3        33.018322    36.0\n"
     ]
    }
   ],
   "source": [
    "# Calculate mean and median for numerical variables\n",
    "#Q9. How old is [Partner_Name]? \n",
    "cluster_summary = df.groupby('Cluster')[\"q9\"].agg(['mean', 'median'])\n",
    "print(cluster_summary)\n",
    "\n"
   ]
  },
  {
   "cell_type": "code",
   "execution_count": 224,
   "metadata": {},
   "outputs": [
    {
     "name": "stdout",
     "output_type": "stream",
     "text": [
      "Cluster\n",
      "0    56.0\n",
      "1    55.0\n",
      "2    44.0\n",
      "3    59.0\n",
      "Name: ppage, dtype: float64\n"
     ]
    }
   ],
   "source": [
    "mode_summary = df.groupby('Cluster')['ppage'].agg(lambda x: x.mode().iloc[0] if not x.mode().empty else None)\n",
    "print(mode_summary)"
   ]
  },
  {
   "cell_type": "code",
   "execution_count": null,
   "metadata": {},
   "outputs": [],
   "source": []
  }
 ],
 "metadata": {
  "kernelspec": {
   "display_name": "venv",
   "language": "python",
   "name": "python3"
  },
  "language_info": {
   "codemirror_mode": {
    "name": "ipython",
    "version": 3
   },
   "file_extension": ".py",
   "mimetype": "text/x-python",
   "name": "python",
   "nbconvert_exporter": "python",
   "pygments_lexer": "ipython3",
   "version": "3.12.3"
  }
 },
 "nbformat": 4,
 "nbformat_minor": 2
}
